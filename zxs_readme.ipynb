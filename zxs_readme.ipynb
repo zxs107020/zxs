{
 "cells": [
  {
   "cell_type": "markdown",
   "metadata": {},
   "source": [
    "# `zxs`: A Package to Save on Time on Data Science Projects"
   ]
  },
  {
   "cell_type": "markdown",
   "metadata": {},
   "source": [
    "## Introduction-\n",
    "\n",
    "As a data scientist, I use the `scikit-learn` package frequently. Along the way, I got tired of repeatedly typing several different code blocks across various projects. I have compiled some functions that streamline the process of creating these code snippets. \n",
    "\n",
    "In addition, I have also added a command-line interface that makes it easy to convert any dataset into a numeric format for ingestion by machine learning algorithms."
   ]
  },
  {
   "cell_type": "markdown",
   "metadata": {},
   "source": [
    "## Instructions-\n",
    "\n",
    "### Installation:\n",
    "\n",
    "The `zxs` package can be installed conveniently using `pip`. This method also works for Anaconda users (like myself) and requires no additional setup. Here are the steps to getting started:\n",
    "\n",
    "1) Install [pip](https://pip.pypa.io/en/stable/installing/).\n",
    "\n",
    "2) Open up a command-line terminal.\n",
    "\n",
    "3) Type: `pip install zxs`.\n",
    "\n",
    "### Contents:\n",
    "\n",
    "The package has 6 functions: `dat_imp`, `local_import`, `separate`, `machine_learning`, `visualize`, & `transform`(accessible via CLI). \n",
    "\n",
    "The `dat_imp` function requires 7 inputs-\n",
    "* **wd**: A string containing the path to set the working directory\n",
    "* **url**: A string containing the url for the online location of the data\n",
    "* **fn**: A string with the name of the file(zip) to be downloaded\n",
    "* **path**: A string with the local destination for the files, ie-`staging/file_name`\n",
    "* **header**: The index location of the column names\n",
    "* **sep**: The separator used to indicate the distinction between data fields\n",
    "* **target**: A string of the specific file_name to be imported into python\n",
    "\n",
    "The output will be a single dataset containing the \"target\" file in the form of a Pandas data frame.\n",
    "\n",
    "*The function will create a dictionary containing a separate dataframe for each file in the `.zip`. The keys for each df will be the actual file names minus extensions. Only the \"target\" will actually be imported into the workspace. The remaining files will exist locally in `wd_path/staging/`.* \n",
    "\n",
    "The `local_import` function requires 2 inputs-\n",
    "* **wd**: A string containing the path to set the working directory\n",
    "* **fn**: A string containing the name of the csv to be imported, with extension\n",
    "\n",
    "The output will be a Pandas data frame containing the target `.csv`.\n",
    "\n",
    "The `separate` function requires 2 inputs-\n",
    "* **data**: A pandas data frame\n",
    "* **target**: A string containing the target variable\n",
    "* **size**: The size of the test data, this will be split equally into validation and testing sets\n",
    "\n",
    "The output will be 6 new datasets-\n",
    "* x_train\n",
    "* x_val\n",
    "* x_test\n",
    "* y_train\n",
    "* y_val\n",
    "* y_test\n",
    "\n",
    "The `machine_learning` function requires 6 inputs-\n",
    "* **package**: A string containing the usual import statement for the model you want to use\n",
    "* **x**: A dataset containing the feature variables\n",
    "* **y**: A dataset containing the target variable\n",
    "* **x1**: A dataset containing the feature variables of the validation/test set\n",
    "* **y1**: A dataset containing the target variable of the validation/testing set\n",
    "* **model**: The statement required to initalize your desired model\n",
    "\n",
    "The output will be 4 variables-\n",
    "* **preds**: A list of the actual predictions for the validation/testing set\n",
    "* **conf_mat**: A confusion matrix of the results for the validation/testing set\n",
    "* **class_rep**: A classification report containing summary statistics for the results\n",
    "* **acc**: The final model accuracy\n",
    "\n",
    "The `visualize` function requires 2 inputs-\n",
    "* **target**: The target variable. This is the same input as `y1` in the `machine_learning` function\n",
    "* **preds**: This is one of the outputs of the `machine_learning` function- the actual predictions created by the model for the validation/testing set\n",
    "\n",
    "The output will be a plot showing the ROC curve for the model. \n",
    "\n",
    "*Note- Since the output is an ROC curve, the target variable must inherently be binary*\n",
    "\n",
    "Last, but not least, there is the `transform` function. This can also be accessed via the command-line by simply calling `zxs` and entering the inputs, which are:\n",
    "* **data**: The pandas dataframe that you wish to use. \n",
    "* **kwargs**: A dictionary that contains three lists, which are all optional parameters. The key values are: `'date'`, `'drop_cols'`, & `'num_cols'`. This function will use pandas to convert the date using pd.to_datetime. Then, the list of drop_columns will be dropped. Finally, the numeric columns will be converted to numbers while the remaining columns will be converted to Pandas type \"category\". The categorical columns will then be converted to numeric representation. "
   ]
  },
  {
   "cell_type": "markdown",
   "metadata": {},
   "source": [
    "## Example-  \n",
    "\n",
    "As an example, we will go through the implementation of an algorithm to classify whether or not users will subscribe to a 'term deposit'. The data is contained on the UCI Machine Learning Repository and more information regarding it can be found on that website.  \n",
    "\n",
    "In any case, lets get started."
   ]
  },
  {
   "cell_type": "markdown",
   "metadata": {},
   "source": [
    "### Set-up:"
   ]
  },
  {
   "cell_type": "code",
   "execution_count": 1,
   "metadata": {},
   "outputs": [],
   "source": [
    "# Load additional libraries\n",
    "import random\n",
    "import zxs"
   ]
  },
  {
   "cell_type": "markdown",
   "metadata": {},
   "source": [
    "### Loading the Data:"
   ]
  },
  {
   "cell_type": "markdown",
   "metadata": {},
   "source": [
    "**Option 1)** Using `dat_imp`"
   ]
  },
  {
   "cell_type": "code",
   "execution_count": 2,
   "metadata": {},
   "outputs": [],
   "source": [
    "# Define the variables\n",
    "wd = '/path/to/files/'\n",
    "url = 'https://archive.ics.uci.edu/ml/machine-learning-databases/00222/bank-additional.zip'\n",
    "fn = 'bank-additional.zip'\n",
    "path = 'staging/bank-additional'\n",
    "header = 0\n",
    "sep = ';'\n",
    "target = 'bank-additional-full'\n",
    "\n",
    "# Load the data\n",
    "data = zxs.dat_imp(wd, url, fn, path, header, sep, target)"
   ]
  },
  {
   "cell_type": "markdown",
   "metadata": {},
   "source": [
    "This code is equivalent to:"
   ]
  },
  {
   "cell_type": "code",
   "execution_count": null,
   "metadata": {},
   "outputs": [],
   "source": [
    "data = zxs.dat_imp('/path/to/files', 'url', 'bank-additional.zip', 'staging/bank-additional', 0, ';', 'bank-additional-full')"
   ]
  },
  {
   "cell_type": "markdown",
   "metadata": {},
   "source": [
    "**Option 2)** Using `local_import`"
   ]
  },
  {
   "cell_type": "code",
   "execution_count": null,
   "metadata": {},
   "outputs": [],
   "source": [
    "# Load the data\n",
    "data = local_import('/path/to/files', 'file_name)\n",
    "\n",
    "# OR\n",
    "path = 'path/to/files'\n",
    "name = 'file_name.csv'\n",
    "\n",
    "data = local_import(path, name)"
   ]
  },
  {
   "cell_type": "markdown",
   "metadata": {},
   "source": [
    "### Pre-Processing (via `transform()`)"
   ]
  },
  {
   "cell_type": "markdown",
   "metadata": {},
   "source": [
    "In the transform function, the `**kwargs` parameter is optional. Meaning that all three values do not need to be supplied. In the case of the bank data, there is no \"date\" column and also there are no columns that need to be dropped. We can simply create a dictionary containing the columns that are numeric, and the remainder will be converted to categorical."
   ]
  },
  {
   "cell_type": "code",
   "execution_count": 3,
   "metadata": {},
   "outputs": [],
   "source": [
    "# Define the numeric columns and the ones to be dropped\n",
    "kwargs = {'date': None, 'drop_cols': None, 'num_cols': ['age', 'duration', 'campaign', 'pdays', 'previous', 'emp.var.rate', 'cons.price.idx', 'cons.conf.idx', 'euribor3m', 'nr.employed']}\n",
    "\n",
    "data = zxs.transform(data, **kwargs)"
   ]
  },
  {
   "cell_type": "markdown",
   "metadata": {},
   "source": [
    "*Now that we have done some basic preprocessing of the data, we are ready to employ the `machine_learning` package.*\n",
    "\n",
    "### Useage:\n",
    "\n",
    "First, we will create our training, validation, and testing sets."
   ]
  },
  {
   "cell_type": "code",
   "execution_count": 4,
   "metadata": {},
   "outputs": [
    {
     "name": "stderr",
     "output_type": "stream",
     "text": [
      "/anaconda3/lib/python3.6/site-packages/sklearn/cross_validation.py:41: DeprecationWarning: This module was deprecated in version 0.18 in favor of the model_selection module into which all the refactored classes and functions are moved. Also note that the interface of the new CV iterators are different from that of this module. This module will be removed in 0.20.\n",
      "  \"This module will be removed in 0.20.\", DeprecationWarning)\n"
     ]
    }
   ],
   "source": [
    "# Call split function\n",
    "x_train, x_val, x_test, y_train, y_val, y_test = zxs.separate(data, 'y', .3)"
   ]
  },
  {
   "cell_type": "code",
   "execution_count": 5,
   "metadata": {},
   "outputs": [],
   "source": [
    "# Call ml function\n",
    "preds, conf_mat, class_rep, acc = zxs.machine_learning('from sklearn.tree import DecisionTreeClassifier', x_train, y_train, x_val, y_val, 'DecisionTreeClassifier()')"
   ]
  },
  {
   "cell_type": "markdown",
   "metadata": {},
   "source": [
    "We have now successfully created a decision tree and collected all of the relevant outputs and information. The next step is to visualize the results. For this purpose, we will use an ROC curve. Before we can do this, however, we will need to modify the data to a format that can be handled by the `roc_curve` function from `sklearn.metrics`."
   ]
  },
  {
   "cell_type": "code",
   "execution_count": 7,
   "metadata": {},
   "outputs": [
    {
     "name": "stdout",
     "output_type": "stream",
     "text": [
      "The Accuracy of the Decision Tree Model is: 0.8967303334412431 \n",
      "\n"
     ]
    }
   ],
   "source": [
    "print(\"The Accuracy of the Decision Tree Model is:\", acc, \"\\n\")"
   ]
  },
  {
   "cell_type": "code",
   "execution_count": 8,
   "metadata": {},
   "outputs": [
    {
     "name": "stdout",
     "output_type": "stream",
     "text": [
      "Classification Report for the Predictions is: \n",
      "              precision    recall  f1-score   support\n",
      "\n",
      "          0       0.95      0.94      0.94      5521\n",
      "          1       0.51      0.54      0.53       657\n",
      "\n",
      "avg / total       0.90      0.90      0.90      6178\n",
      " \n",
      "\n"
     ]
    }
   ],
   "source": [
    "print(\"Classification Report for the Predictions is:\", \"\\n\", class_rep, \"\\n\")"
   ]
  },
  {
   "cell_type": "code",
   "execution_count": 11,
   "metadata": {},
   "outputs": [
    {
     "data": {
      "image/png": "[encoded data removed]",
      "text/plain": [
       "<matplotlib.figure.Figure at 0x113325940>"
      ]
     },
     "metadata": {},
     "output_type": "display_data"
    }
   ],
   "source": [
    "# Call visualization function\n",
    "zxs.visualize(y_val, preds)"
   ]
  },
  {
   "cell_type": "markdown",
   "metadata": {},
   "source": [
    "## Conclusion-\n",
    "\n",
    "Thats all there is to it. \n",
    "\n",
    "What I have tried to do here is provide a simpler interface for interacting with multiple models using the `sklearn` library in python. \n",
    "\n",
    "The goal is to quickly and efficiently be able to run several different models without having to store excess variables or reptitively type multiple snippets of code.\n",
    "\n",
    "Enjoy! "
   ]
  }
 ],
 "metadata": {
  "kernelspec": {
   "display_name": "Python 3",
   "language": "python",
   "name": "python3"
  },
  "language_info": {
   "codemirror_mode": {
    "name": "ipython",
    "version": 3
   },
   "file_extension": ".py",
   "mimetype": "text/x-python",
   "name": "python",
   "nbconvert_exporter": "python",
   "pygments_lexer": "ipython3",
   "version": "3.6.4"
  }
 },
 "nbformat": 4,
 "nbformat_minor": 2
}
